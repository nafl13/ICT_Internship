{
  "nbformat": 4,
  "nbformat_minor": 0,
  "metadata": {
    "colab": {
      "provenance": [],
      "authorship_tag": "ABX9TyNcQGuLrhSrY06wColgOUAH",
      "include_colab_link": true
    },
    "kernelspec": {
      "name": "python3",
      "display_name": "Python 3"
    },
    "language_info": {
      "name": "python"
    }
  },
  "cells": [
    {
      "cell_type": "markdown",
      "metadata": {
        "id": "view-in-github",
        "colab_type": "text"
      },
      "source": [
        "<a href=\"https://colab.research.google.com/github/nafl13/ICT_Internship/blob/day1/internshipD1.ipynb\" target=\"_parent\"><img src=\"https://colab.research.google.com/assets/colab-badge.svg\" alt=\"Open In Colab\"/></a>"
      ]
    },
    {
      "cell_type": "code",
      "execution_count": null,
      "metadata": {
        "colab": {
          "base_uri": "https://localhost:8080/"
        },
        "id": "6cGAN42sByhX",
        "outputId": "28b6d1ea-df73-41f5-8db5-6c407ebbd6f8"
      },
      "outputs": [
        {
          "output_type": "stream",
          "name": "stdout",
          "text": [
            "Ahmad Nafl\n",
            "Ameensha\n",
            "Anand\n"
          ]
        }
      ],
      "source": [
        "val=['Anand','Ameensha','Ahmad Nafl']\n",
        "reverse=[]\n",
        "for i in range(len(val)) :\n",
        "    reverse.append(val[len(val) - i - 1])\n",
        "\n",
        "for i in range(len(reverse)):\n",
        "  print(reverse[i]) "
      ]
    },
    {
      "cell_type": "code",
      "source": [
        "n = int(input(\"Enter the number of rows\")) \n",
        "for i in range(0, n):  \n",
        "  for j in range(0,n):\n",
        "     print(\"* \",end='')  \n",
        "  print()"
      ],
      "metadata": {
        "colab": {
          "base_uri": "https://localhost:8080/"
        },
        "id": "q-vKc6e2IBJ9",
        "outputId": "26318db9-a04c-4d56-8a10-20bf60050933"
      },
      "execution_count": null,
      "outputs": [
        {
          "output_type": "stream",
          "name": "stdout",
          "text": [
            "Enter the number of rows5\n",
            "* * * * * \n",
            "* * * * * \n",
            "* * * * * \n",
            "* * * * * \n",
            "* * * * * \n"
          ]
        }
      ]
    },
    {
      "cell_type": "code",
      "source": [
        "print (\"python \\n\"*3)"
      ],
      "metadata": {
        "colab": {
          "base_uri": "https://localhost:8080/"
        },
        "id": "sZKdo4E7LPVQ",
        "outputId": "dc489cc1-5069-4e88-f804-1c4451e1ddb4"
      },
      "execution_count": null,
      "outputs": [
        {
          "output_type": "stream",
          "name": "stdout",
          "text": [
            "python \n",
            "python \n",
            "python \n",
            "\n"
          ]
        }
      ]
    },
    {
      "cell_type": "code",
      "source": [
        "s=\"python\"\n",
        "print (s[0:4])"
      ],
      "metadata": {
        "colab": {
          "base_uri": "https://localhost:8080/"
        },
        "id": "8c3cXzdaYqv6",
        "outputId": "f4080e08-7f13-4336-d30c-2f89024a1ca7"
      },
      "execution_count": null,
      "outputs": [
        {
          "output_type": "stream",
          "name": "stdout",
          "text": [
            "pyth\n"
          ]
        }
      ]
    },
    {
      "cell_type": "code",
      "source": [
        "animals =[\"cat\",\"dog\",\"mouse\"]\n",
        "for animal in animals:\n",
        "  print('hi '+'animals')"
      ],
      "metadata": {
        "colab": {
          "base_uri": "https://localhost:8080/"
        },
        "id": "3ttmhuI9s46I",
        "outputId": "fb7d26a2-323a-4634-8a12-8ba67c65aeec"
      },
      "execution_count": null,
      "outputs": [
        {
          "output_type": "stream",
          "name": "stdout",
          "text": [
            "hianimals\n",
            "hianimals\n",
            "hianimals\n"
          ]
        }
      ]
    },
    {
      "cell_type": "code",
      "source": [
        "a = int(input(\"Enter the first number : \"))\n",
        "b = int(input(\"Enter the second number: \"))\n",
        "c = int(input(\"1.addition\\n2.multiplication\\n3.division\\n4.substraction\\nselect the operation: \"))\n",
        "if (c==1):\n",
        "  print (a+b)\n",
        "elif(c==2):\n",
        "  print(a*b)\n",
        "elif(c==3):\n",
        "  if (b==0):\n",
        "    print (\"not possible\")\n",
        "  else:\n",
        "   print(a/b)\n",
        "elif(c==4):\n",
        "  print(a-b)\n",
        "else:\n",
        "  print(\"error\")"
      ],
      "metadata": {
        "colab": {
          "base_uri": "https://localhost:8080/"
        },
        "id": "9bSRN456tlwb",
        "outputId": "57894ff3-15e1-4199-eb8c-106f8f1b5e9b"
      },
      "execution_count": null,
      "outputs": [
        {
          "output_type": "stream",
          "name": "stdout",
          "text": [
            "Enter the first number : 5\n",
            "Enter the second number: 6\n",
            "1.addition\n",
            "2.multiplication\n",
            "3.division\n",
            "4.substraction\n",
            "select the operation: 6\n",
            "error\n"
          ]
        }
      ]
    },
    {
      "cell_type": "code",
      "source": [
        "a=int(input('Enter the number:- '))\n",
        "if a<2:\n",
        "  print(a,\"is not prime\" )     \n",
        "else:\n",
        "    for i in range(2,a):\n",
        "        if a%i==0:\n",
        "          print(a,'is not prime')\n",
        "          flag=0\n",
        "          break\n",
        "        else:\n",
        "          flag=1\n",
        "    if flag==1:\n",
        "      print(a,\"is prime\")"
      ],
      "metadata": {
        "colab": {
          "base_uri": "https://localhost:8080/"
        },
        "id": "CL2RaRJs1RUW",
        "outputId": "fef670a1-627c-40b1-d745-e405aed51516"
      },
      "execution_count": null,
      "outputs": [
        {
          "output_type": "stream",
          "name": "stdout",
          "text": [
            "Enter the number:- 3\n",
            "3 is prime\n"
          ]
        }
      ]
    },
    {
      "cell_type": "code",
      "source": [
        "a = int(input(\"Enter the year : \"))\n",
        "if a%4==0 and a%400==0 or a%100!=0:\n",
        "  print(\"leap year\")\n",
        "else:\n",
        "  print(\"not leap year\")"
      ],
      "metadata": {
        "colab": {
          "base_uri": "https://localhost:8080/"
        },
        "id": "Q8ZLGPPY5GkO",
        "outputId": "c0ab1f9d-618f-4944-f4c0-8e0b716da3fd"
      },
      "execution_count": null,
      "outputs": [
        {
          "output_type": "stream",
          "name": "stdout",
          "text": [
            "Enter the year : 2020\n",
            "leap year\n"
          ]
        }
      ]
    },
    {
      "cell_type": "code",
      "source": [
        "a = int(input(\"Enter the number : \"))\n",
        "s=0\n",
        "for i in range (0,a+1):\n",
        "  s=s+i\n",
        "print(\"the sum is: \",s)"
      ],
      "metadata": {
        "colab": {
          "base_uri": "https://localhost:8080/"
        },
        "id": "ZXP4K4Eq-fOj",
        "outputId": "a10ee9e3-aa11-467f-96d1-006843cea132"
      },
      "execution_count": null,
      "outputs": [
        {
          "output_type": "stream",
          "name": "stdout",
          "text": [
            "Enter the number : 5\n",
            "the sum is:  15\n"
          ]
        }
      ]
    },
    {
      "cell_type": "code",
      "source": [
        "def function_name(argument):\n",
        "  #fn perform operation\n",
        "  "
      ],
      "metadata": {
        "id": "pA18u2TABBkd"
      },
      "execution_count": null,
      "outputs": []
    },
    {
      "cell_type": "code",
      "source": [
        "def greet():\n",
        "  print ('Hello')"
      ],
      "metadata": {
        "id": "zlIRkL3iFYbD"
      },
      "execution_count": null,
      "outputs": []
    },
    {
      "cell_type": "code",
      "source": [
        "greet()"
      ],
      "metadata": {
        "colab": {
          "base_uri": "https://localhost:8080/"
        },
        "id": "tO4GUnNgFhyg",
        "outputId": "38cbbf1b-6cf3-4b38-adb1-b59c704914f3"
      },
      "execution_count": null,
      "outputs": [
        {
          "output_type": "stream",
          "name": "stdout",
          "text": [
            "Hello\n"
          ]
        }
      ]
    },
    {
      "cell_type": "code",
      "source": [
        "def sqr(num):\n",
        "  sum=num*num\n",
        "  print (sum)\n"
      ],
      "metadata": {
        "id": "GdSR80w5Jk06"
      },
      "execution_count": null,
      "outputs": []
    },
    {
      "cell_type": "code",
      "source": [
        "sqr(5)"
      ],
      "metadata": {
        "colab": {
          "base_uri": "https://localhost:8080/"
        },
        "id": "stX2ODiuJwZS",
        "outputId": "11edcb94-8d2c-4ae1-851e-f147e16068cf"
      },
      "execution_count": null,
      "outputs": [
        {
          "output_type": "stream",
          "name": "stdout",
          "text": [
            "25\n"
          ]
        }
      ]
    },
    {
      "cell_type": "code",
      "source": [
        "sqr(8)\n"
      ],
      "metadata": {
        "id": "ujvsMcR7KDkI"
      },
      "execution_count": null,
      "outputs": []
    },
    {
      "cell_type": "markdown",
      "source": [
        "**ASSIGNMENT_DAY_1**"
      ],
      "metadata": {
        "id": "wZBAymk-9N1B"
      }
    },
    {
      "cell_type": "code",
      "source": [
        "lst = []\n",
        "n = int(input(\"Enter number of elements : \"))\n",
        "for i in range(0,n):\n",
        "  print(\"Enter elements: \")\n",
        "  ele = int(input())\n",
        "  lst.append(ele) \n",
        "  print(lst)\n",
        "sum = 0\n",
        "for i in lst:\n",
        "  sum += i\n",
        "print(\"Sum of all elements in given list: \", sum)"
      ],
      "metadata": {
        "id": "0VvPuXwcKSII",
        "colab": {
          "base_uri": "https://localhost:8080/"
        },
        "outputId": "ff8a06bb-5824-491e-e1ee-4499b17bdfba"
      },
      "execution_count": null,
      "outputs": [
        {
          "output_type": "stream",
          "name": "stdout",
          "text": [
            "Enter number of elements : 3\n",
            "Enter elements: \n",
            "5\n",
            "[5]\n",
            "Enter elements: \n",
            "6\n",
            "[5, 6]\n",
            "Enter elements: \n",
            "7\n",
            "[5, 6, 7]\n",
            "Sum of all elements in given list:  18\n"
          ]
        }
      ]
    },
    {
      "cell_type": "code",
      "source": [
        "string = input(\"Enter the string : \")\n",
        "N=0\n",
        "print(\"length of The String: \",len(string))\n",
        "print(\"First half of the string: \",string[:len(string)//2])"
      ],
      "metadata": {
        "colab": {
          "base_uri": "https://localhost:8080/"
        },
        "id": "569sJ26zRmyr",
        "outputId": "f055e94a-1482-421b-a153-730134273276"
      },
      "execution_count": null,
      "outputs": [
        {
          "output_type": "stream",
          "name": "stdout",
          "text": [
            "Enter the string : ahmad\n",
            "length of The String:  5\n",
            "First half of the string:  ah\n"
          ]
        }
      ]
    },
    {
      "cell_type": "code",
      "source": [
        "str1 = input(\"Enter first string: \")\n",
        "str2 = input(\"Enter second string: \")\n",
        "Add = str1 + str2\n",
        "print(\"Resultant string is:\", Add)\n",
        "print(\"Length of the resultant string is:\", len(Add))"
      ],
      "metadata": {
        "colab": {
          "base_uri": "https://localhost:8080/"
        },
        "id": "cot4SCZkZb9u",
        "outputId": "23d2c023-eb61-446f-98fb-951cb2a6ee5b"
      },
      "execution_count": null,
      "outputs": [
        {
          "output_type": "stream",
          "name": "stdout",
          "text": [
            "Enter first string: ahmad\n",
            "Enter second string: nafl\n",
            "Resultant string is: ahmadnafl\n",
            "Length of the resultant string is: 9\n"
          ]
        }
      ]
    },
    {
      "cell_type": "code",
      "source": [
        "tup = (78,45,32,19,82,77,40,39)\n",
        "lst = list(tup)\n",
        "lst[2] = 100\n",
        "tup = tuple(lst)\n",
        "print(tup)"
      ],
      "metadata": {
        "colab": {
          "base_uri": "https://localhost:8080/"
        },
        "id": "ULXhQKK8ZuXy",
        "outputId": "44e95778-048c-49ff-f28d-36f8fde0ffab"
      },
      "execution_count": null,
      "outputs": [
        {
          "output_type": "stream",
          "name": "stdout",
          "text": [
            "(78, 45, 100, 19, 82, 77, 40, 39)\n"
          ]
        }
      ]
    },
    {
      "cell_type": "code",
      "source": [
        "lst = [19,32,10,55,31,32,94,29,10,65,77,40,40]\n",
        "print(\"list before:\",lst)\n",
        "print(\"length of the list before:\",len(lst))\n",
        "lst[9] = 300\n",
        "lst.remove(32)\n",
        "while 40 in lst:\n",
        "    lst.remove(40)\n",
        "del lst[5]\n",
        "lst.insert(2, 200)\n",
        "s=0\n",
        "for i in lst:\n",
        "  s=s+i\n",
        "print(\"list after:\",lst)\n",
        "print(\"Length of list after:\", len(lst))\n",
        "print(\"Maximum value in list:\", max(lst))\n",
        "print(\"Sum of all elements in list:\",s )"
      ],
      "metadata": {
        "colab": {
          "base_uri": "https://localhost:8080/"
        },
        "id": "PTwgTrRDeRV7",
        "outputId": "c96817cd-097c-4ea9-a71d-1dc85adc4121"
      },
      "execution_count": null,
      "outputs": [
        {
          "output_type": "stream",
          "name": "stdout",
          "text": [
            "list before: [19, 32, 10, 55, 31, 32, 94, 29, 10, 65, 77, 40, 40]\n",
            "length of the list before: 13\n",
            "list after: [19, 10, 200, 55, 31, 32, 29, 10, 300, 77]\n",
            "Length of list after: 10\n",
            "Maximum value in list: 300\n",
            "Sum of all elements in list: 763\n"
          ]
        }
      ]
    }
  ]
}