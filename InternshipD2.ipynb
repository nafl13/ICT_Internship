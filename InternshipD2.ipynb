{
  "nbformat": 4,
  "nbformat_minor": 0,
  "metadata": {
    "colab": {
      "provenance": [],
      "include_colab_link": true
    },
    "kernelspec": {
      "name": "python3",
      "display_name": "Python 3"
    },
    "language_info": {
      "name": "python"
    }
  },
  "cells": [
    {
      "cell_type": "markdown",
      "metadata": {
        "id": "view-in-github",
        "colab_type": "text"
      },
      "source": [
        "<a href=\"https://colab.research.google.com/github/nafl13/ICT_Internship/blob/day2/InternshipD2.ipynb\" target=\"_parent\"><img src=\"https://colab.research.google.com/assets/colab-badge.svg\" alt=\"Open In Colab\"/></a>"
      ]
    },
    {
      "cell_type": "code",
      "execution_count": null,
      "metadata": {
        "id": "uXTSISOR6m4W"
      },
      "outputs": [],
      "source": [
        "class student():\n",
        "  def __init__(self,name,marks):\n",
        "    self.name=name\n",
        "    self.marks=marks\n",
        "\n",
        "  def result(self):\n",
        "    if self.marks>40:\n",
        "      return 'pass'\n",
        "    else:\n",
        "      return 'fail'"
      ]
    },
    {
      "cell_type": "code",
      "source": [
        "st1=student('ameen','30')\n",
        "st2=student('anand','18')\n",
        "st3=student('edger','50')\n",
        "st4=student('nafal','40')\n",
        "st5=student('bilal','2')\n",
        "stud_name=[st1,st2,st3,st4,st5]\n",
        "stud_pass=[]\n",
        "stud_fail=[]"
      ],
      "metadata": {
        "id": "BR-JXT67Dlps"
      },
      "execution_count": null,
      "outputs": []
    },
    {
      "cell_type": "code",
      "source": [
        "for x in stud_name:\n",
        "  if x.result()=='pass':\n",
        "    passed.append(x.name)\n",
        "  else:\n",
        "     fail.append(x.name) \n",
        "\n",
        "print(fail)\n",
        "print(passed)\n"
      ],
      "metadata": {
        "colab": {
          "base_uri": "https://localhost:8080/",
          "height": 356
        },
        "id": "OHtPonZ-YOvb",
        "outputId": "714ed1f0-312e-42d0-b61d-de0a038072b9"
      },
      "execution_count": null,
      "outputs": [
        {
          "output_type": "error",
          "ename": "TypeError",
          "evalue": "ignored",
          "traceback": [
            "\u001b[0;31m---------------------------------------------------------------------------\u001b[0m",
            "\u001b[0;31mTypeError\u001b[0m                                 Traceback (most recent call last)",
            "\u001b[0;32m<ipython-input-4-fe03d72f2ccf>\u001b[0m in \u001b[0;36m<cell line: 1>\u001b[0;34m()\u001b[0m\n\u001b[1;32m      1\u001b[0m \u001b[0;32mfor\u001b[0m \u001b[0mx\u001b[0m \u001b[0;32min\u001b[0m \u001b[0mstud_name\u001b[0m\u001b[0;34m:\u001b[0m\u001b[0;34m\u001b[0m\u001b[0;34m\u001b[0m\u001b[0m\n\u001b[0;32m----> 2\u001b[0;31m   \u001b[0;32mif\u001b[0m \u001b[0mx\u001b[0m\u001b[0;34m.\u001b[0m\u001b[0mresult\u001b[0m\u001b[0;34m(\u001b[0m\u001b[0;34m)\u001b[0m\u001b[0;34m==\u001b[0m\u001b[0;34m'pass'\u001b[0m\u001b[0;34m:\u001b[0m\u001b[0;34m\u001b[0m\u001b[0;34m\u001b[0m\u001b[0m\n\u001b[0m\u001b[1;32m      3\u001b[0m     \u001b[0mpassed\u001b[0m\u001b[0;34m.\u001b[0m\u001b[0mappend\u001b[0m\u001b[0;34m(\u001b[0m\u001b[0mx\u001b[0m\u001b[0;34m.\u001b[0m\u001b[0mname\u001b[0m\u001b[0;34m)\u001b[0m\u001b[0;34m\u001b[0m\u001b[0;34m\u001b[0m\u001b[0m\n\u001b[1;32m      4\u001b[0m   \u001b[0;32melse\u001b[0m\u001b[0;34m:\u001b[0m\u001b[0;34m\u001b[0m\u001b[0;34m\u001b[0m\u001b[0m\n\u001b[1;32m      5\u001b[0m      \u001b[0mfail\u001b[0m\u001b[0;34m.\u001b[0m\u001b[0mappend\u001b[0m\u001b[0;34m(\u001b[0m\u001b[0mx\u001b[0m\u001b[0;34m.\u001b[0m\u001b[0mname\u001b[0m\u001b[0;34m)\u001b[0m\u001b[0;34m\u001b[0m\u001b[0;34m\u001b[0m\u001b[0m\n",
            "\u001b[0;32m<ipython-input-2-04c38ae339aa>\u001b[0m in \u001b[0;36mresult\u001b[0;34m(self)\u001b[0m\n\u001b[1;32m      5\u001b[0m \u001b[0;34m\u001b[0m\u001b[0m\n\u001b[1;32m      6\u001b[0m   \u001b[0;32mdef\u001b[0m \u001b[0mresult\u001b[0m\u001b[0;34m(\u001b[0m\u001b[0mself\u001b[0m\u001b[0;34m)\u001b[0m\u001b[0;34m:\u001b[0m\u001b[0;34m\u001b[0m\u001b[0;34m\u001b[0m\u001b[0m\n\u001b[0;32m----> 7\u001b[0;31m     \u001b[0;32mif\u001b[0m \u001b[0mself\u001b[0m\u001b[0;34m.\u001b[0m\u001b[0mmarks\u001b[0m\u001b[0;34m>\u001b[0m\u001b[0;36m40\u001b[0m\u001b[0;34m:\u001b[0m\u001b[0;34m\u001b[0m\u001b[0;34m\u001b[0m\u001b[0m\n\u001b[0m\u001b[1;32m      8\u001b[0m       \u001b[0;32mreturn\u001b[0m \u001b[0;34m'pass'\u001b[0m\u001b[0;34m\u001b[0m\u001b[0;34m\u001b[0m\u001b[0m\n\u001b[1;32m      9\u001b[0m     \u001b[0;32melse\u001b[0m\u001b[0;34m:\u001b[0m\u001b[0;34m\u001b[0m\u001b[0;34m\u001b[0m\u001b[0m\n",
            "\u001b[0;31mTypeError\u001b[0m: '>' not supported between instances of 'str' and 'int'"
          ]
        }
      ]
    },
    {
      "cell_type": "code",
      "source": [
        "class animal():\n",
        "  def __init__(self,name):\n",
        "   self.name=name"
      ],
      "metadata": {
        "id": "GBRDzdvRFzo_"
      },
      "execution_count": null,
      "outputs": []
    },
    {
      "cell_type": "code",
      "source": [
        "an1=animal('cat')"
      ],
      "metadata": {
        "id": "tW98YR_1GbcX"
      },
      "execution_count": null,
      "outputs": []
    },
    {
      "cell_type": "code",
      "source": [
        "print(st1.name)\n",
        "an1.name"
      ],
      "metadata": {
        "colab": {
          "base_uri": "https://localhost:8080/",
          "height": 53
        },
        "id": "A7_RJJjuGgjF",
        "outputId": "2eb3fbc9-7772-4df2-b9b6-56400d596c87"
      },
      "execution_count": null,
      "outputs": [
        {
          "output_type": "stream",
          "name": "stdout",
          "text": [
            "ameen\n"
          ]
        },
        {
          "output_type": "execute_result",
          "data": {
            "text/plain": [
              "'cat'"
            ],
            "application/vnd.google.colaboratory.intrinsic+json": {
              "type": "string"
            }
          },
          "metadata": {},
          "execution_count": 21
        }
      ]
    },
    {
      "cell_type": "code",
      "source": [
        "class circle:\n",
        "    def __init__(self, radius):\n",
        "        self.radius = radius\n",
        "    def area(self):\n",
        "        return 3.14 * (self.radius ** 2)\n",
        "    def perimeter(self):\n",
        "        return 2 * 3.14 * self.radius\n",
        "r=int(input(\"Enter the radius: \"))\n",
        "r1 = circle(r)\n",
        "print(\"Area:\", r1.area())\n",
        "print(\"Perimeter:\", r1.perimeter())"
      ],
      "metadata": {
        "colab": {
          "base_uri": "https://localhost:8080/"
        },
        "id": "IDjbUQKwaQ-f",
        "outputId": "d9f2fd9e-c9a8-4b46-c30b-d812dda1fe4c"
      },
      "execution_count": null,
      "outputs": [
        {
          "output_type": "stream",
          "name": "stdout",
          "text": [
            "Enter the radius: 5\n",
            "Area: 78.5\n",
            "Perimeter: 31.400000000000002\n"
          ]
        }
      ]
    },
    {
      "cell_type": "markdown",
      "source": [
        "**ASSIGNMENT_DAY_2**"
      ],
      "metadata": {
        "id": "Lm4_mvCtTdUL"
      }
    },
    {
      "cell_type": "code",
      "source": [
        "fruits = ['banana', 'orange', 'mango', 'lemon']\n",
        "reversed_fruits = []\n",
        "\n",
        "for i in range(len(fruits)-1, -1, -1):\n",
        "    reversed_fruits.append(fruits[i])\n",
        "\n",
        "print(reversed_fruits)"
      ],
      "metadata": {
        "id": "l6iFCu3mc8ZA",
        "colab": {
          "base_uri": "https://localhost:8080/"
        },
        "outputId": "6fb7d15f-4e06-4ec0-a0ec-ad6fa75833be"
      },
      "execution_count": null,
      "outputs": [
        {
          "output_type": "stream",
          "name": "stdout",
          "text": [
            "['lemon', 'mango', 'orange', 'banana']\n"
          ]
        }
      ]
    },
    {
      "cell_type": "code",
      "source": [
        "a = 0\n",
        "b = 1\n",
        "for i in range(10):\n",
        "    print(a, end=\" \")\n",
        "    c = a + b\n",
        "    a = b\n",
        "    b = c"
      ],
      "metadata": {
        "colab": {
          "base_uri": "https://localhost:8080/"
        },
        "id": "k0vlpawDTs7R",
        "outputId": "750295fd-b214-465f-b269-7ffa5078b384"
      },
      "execution_count": null,
      "outputs": [
        {
          "output_type": "stream",
          "name": "stdout",
          "text": [
            "0 1 1 2 3 5 8 13 21 34 "
          ]
        }
      ]
    },
    {
      "cell_type": "code",
      "source": [
        "def prime(n):\n",
        "    if n < 2:\n",
        "        return False\n",
        "    for i in range(2, n):\n",
        "        if n % i == 0:\n",
        "            return False\n",
        "    return True\n",
        "\n",
        "count = 0\n",
        "for i in range(0, 101):\n",
        "    if prime(i):\n",
        "        print(i)\n",
        "        count += 1\n",
        "\n",
        "print(f\"\\nThere are {count} prime numbers between 0 and 100.\")"
      ],
      "metadata": {
        "colab": {
          "base_uri": "https://localhost:8080/"
        },
        "id": "wPP_rPSvUKFi",
        "outputId": "4fb4a34c-7e1e-4e61-b26c-bb39c0002d98"
      },
      "execution_count": null,
      "outputs": [
        {
          "output_type": "stream",
          "name": "stdout",
          "text": [
            "2\n",
            "3\n",
            "5\n",
            "7\n",
            "11\n",
            "13\n",
            "17\n",
            "19\n",
            "23\n",
            "29\n",
            "31\n",
            "37\n",
            "41\n",
            "43\n",
            "47\n",
            "53\n",
            "59\n",
            "61\n",
            "67\n",
            "71\n",
            "73\n",
            "79\n",
            "83\n",
            "89\n",
            "97\n",
            "\n",
            "There are 25 prime numbers between 0 and 100.\n"
          ]
        }
      ]
    },
    {
      "cell_type": "code",
      "source": [
        "num = int(input(\"Enter a number: \"))\n",
        "if num % 2 == 0:\n",
        "    print(num,\"is even number\")\n",
        "    print(\"Square of\", num, \"is\", num**2)\n",
        "else:\n",
        "    print(num,\"is odd number\")\n",
        "    print(\"Cube of\", num, \"is\", num**3)"
      ],
      "metadata": {
        "colab": {
          "base_uri": "https://localhost:8080/"
        },
        "id": "2Asl6j4pUrRC",
        "outputId": "d1719e9c-46de-4b75-994e-3191a4159613"
      },
      "execution_count": null,
      "outputs": [
        {
          "output_type": "stream",
          "name": "stdout",
          "text": [
            "Enter a number: 5\n",
            "5 is odd number\n",
            "Cube of 5 is 125\n"
          ]
        }
      ]
    },
    {
      "cell_type": "code",
      "source": [
        "sentence = input(\"Enter a sentence: \")\n",
        "words = sentence.split()\n",
        "longest_word = \"\"\n",
        "for word in words:\n",
        "    if len(word) > len(longest_word):\n",
        "        longest_word = word\n",
        "print(\"The longest word is:\", longest_word)"
      ],
      "metadata": {
        "colab": {
          "base_uri": "https://localhost:8080/"
        },
        "id": "m-8l1BVHWXhy",
        "outputId": "c2be6560-b632-4f1d-f4fe-90e528fccecc"
      },
      "execution_count": null,
      "outputs": [
        {
          "output_type": "stream",
          "name": "stdout",
          "text": [
            "Enter a sentence: hi pyth\n",
            "The longest word is: pyth\n"
          ]
        }
      ]
    },
    {
      "cell_type": "code",
      "source": [
        "sum = 0\n",
        "count = 0\n",
        "while count < 5:\n",
        "    num = float(input(\"Enter number: \"))\n",
        "    sum += num\n",
        "    count += 1\n",
        "average = sum / 5\n",
        "print(\"The average of 5 numbers is: \", average)"
      ],
      "metadata": {
        "colab": {
          "base_uri": "https://localhost:8080/"
        },
        "id": "SixqyIM-W2ci",
        "outputId": "3f1d4f58-697c-4f8c-b6dd-fdb911248d8e"
      },
      "execution_count": null,
      "outputs": [
        {
          "output_type": "stream",
          "name": "stdout",
          "text": [
            "Enter number: 4\n",
            "Enter number: 2\n",
            "Enter number: 4\n",
            "Enter number: 6\n",
            "Enter number: 7\n",
            "The average of 5 numbers is:  4.6\n"
          ]
        }
      ]
    },
    {
      "cell_type": "code",
      "source": [
        "n = int(input(\"Enter a number:\"))\n",
        "tot = 0\n",
        "while(n > 0):\n",
        "    dig = n % 10\n",
        "    tot = tot + dig\n",
        "    n = n // 10\n",
        "print(\"The total sum of digits of the given number is:\", tot)"
      ],
      "metadata": {
        "colab": {
          "base_uri": "https://localhost:8080/"
        },
        "id": "JDc8ZtFsYZj8",
        "outputId": "8989ff65-1aee-40ee-8407-af2e9d299cae"
      },
      "execution_count": null,
      "outputs": [
        {
          "output_type": "stream",
          "name": "stdout",
          "text": [
            "Enter a number:89\n",
            "The total sum of digits of the given number is: 17\n"
          ]
        }
      ]
    },
    {
      "cell_type": "code",
      "source": [
        "principal = float(input(\"Enter the principal value: \"))\n",
        "rat = float(input(\"Enter the rate of interest: \"))\n",
        "rate=rat/100\n",
        "years = int(input(\"Enter the number of years: \"))\n",
        "\n",
        "for year in range(1, years+1):\n",
        "    interest = principal * rate * year\n",
        "    amount = principal + interest\n",
        "    print(f\"Year :\",year)\n",
        "    print(f\"Interest = \",interest)\n",
        "    print(f\"Amount = \",amount)"
      ],
      "metadata": {
        "colab": {
          "base_uri": "https://localhost:8080/"
        },
        "id": "x2Wp5CZbZhIa",
        "outputId": "2c2f49bc-79b8-47cf-f597-9250ba5e5c7a"
      },
      "execution_count": null,
      "outputs": [
        {
          "output_type": "stream",
          "name": "stdout",
          "text": [
            "Enter the principal value: 100000\n",
            "Enter the rate of interest: 5\n",
            "Enter the number of years: 5\n",
            "Year : 1\n",
            "Interest =  5000.0\n",
            "Amount =  105000.0\n",
            "Year : 2\n",
            "Interest =  10000.0\n",
            "Amount =  110000.0\n",
            "Year : 3\n",
            "Interest =  15000.0\n",
            "Amount =  115000.0\n",
            "Year : 4\n",
            "Interest =  20000.0\n",
            "Amount =  120000.0\n",
            "Year : 5\n",
            "Interest =  25000.0\n",
            "Amount =  125000.0\n"
          ]
        }
      ]
    },
    {
      "cell_type": "code",
      "source": [
        "year = int(input(\"Please enter the year you wish: \"))\n",
        "\n",
        "def leapYear(year):\n",
        "    if ((year%400==0)or((year%4==0)and(year%100!=0))):\n",
        "        print(\"Leap Year\")\n",
        "    else:\n",
        "        print(\"Not a Leap Year\")\n",
        "\n",
        "leapYear(year)"
      ],
      "metadata": {
        "colab": {
          "base_uri": "https://localhost:8080/"
        },
        "id": "v97JQhiKaoSX",
        "outputId": "fe34f730-9358-4e84-bb49-0c8f6a1ec6ad"
      },
      "execution_count": null,
      "outputs": [
        {
          "output_type": "stream",
          "name": "stdout",
          "text": [
            "Please enter the year you wish: 2048\n",
            "Leap Year\n"
          ]
        }
      ]
    },
    {
      "cell_type": "code",
      "source": [
        "years = [2034, 2048]\n",
        "\n",
        "for year in years:\n",
        "    if ((year%400==0)or((year%4==0)and(year%100!=0))):\n",
        "        print(str(year) + \" is a Leap Year\")\n",
        "    else:\n",
        "        print(str(year) + \" is Not a Leap Year\")"
      ],
      "metadata": {
        "colab": {
          "base_uri": "https://localhost:8080/"
        },
        "id": "BtTysWCiaoQZ",
        "outputId": "3e56e179-1825-4c64-8e81-87260fdd1871"
      },
      "execution_count": null,
      "outputs": [
        {
          "output_type": "stream",
          "name": "stdout",
          "text": [
            "2034 is Not a Leap Year\n",
            "2048 is a Leap Year\n"
          ]
        }
      ]
    }
  ]
}